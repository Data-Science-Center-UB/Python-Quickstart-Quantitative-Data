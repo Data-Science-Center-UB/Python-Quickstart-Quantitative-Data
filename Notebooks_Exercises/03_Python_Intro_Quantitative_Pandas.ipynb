{
 "cells": [
  {
   "cell_type": "markdown",
   "id": "48eca60f-5bb9-49b3-aebd-30cffd9d99cb",
   "metadata": {},
   "source": [
    "<img src=\"../Images/DSC_Logo.png\" style=\"width: 400px;\">"
   ]
  },
  {
   "cell_type": "markdown",
   "id": "541f387c-9f50-4373-9f5a-b2ef0a1c2089",
   "metadata": {},
   "source": [
    "# Data Preparation and Analysis using Pandas\n",
    "\n",
    "In this notebook, we focus on using `pandas`. It very much simplifies the process of reading, cleaning, transforming, and analyzing tabular data, and offers intuitive tools for handling missing values, filtering rows, aggregating data, and performing tasks like time series operations and basic plotting. In addition to `pandas`, we will also introduce `matplotlib` for creating high-quality, highly customizable visualizations."
   ]
  },
  {
   "cell_type": "code",
   "execution_count": null,
   "id": "a1df5a49-6044-4db8-9573-ab1e0e9e7d3f",
   "metadata": {
    "scrolled": true
   },
   "outputs": [],
   "source": [
    "!pip install pandas\n",
    "!pip install matplotlib\n",
    "\n",
    "import pandas as pd\n",
    "import matplotlib.pyplot as plt"
   ]
  },
  {
   "cell_type": "markdown",
   "id": "8ffea9d3-ee4f-47c7-8cf8-afda005d6e17",
   "metadata": {},
   "source": [
    "Let's look at some basic commands in pandas using an artificial DataFrame containing measured climate parameters."
   ]
  },
  {
   "cell_type": "code",
   "execution_count": null,
   "id": "f7f97d0c-0673-4458-b647-2458cc9b5b98",
   "metadata": {
    "scrolled": true
   },
   "outputs": [],
   "source": [
    "# Create a simple DataFrame with measurement data\n",
    "data = {\n",
    "    'Date': ['2025-06-01', '2025-06-02', '2025-06-03', '2025-06-04'],\n",
    "    'Temperature': [22.5, 23.0, None, 20.4],\n",
    "    'Humidity': [55, 60, 58, 62],\n",
    "    'Wind_Speed': [12, 15, 10, 8]\n",
    "}\n",
    "\n",
    "df = pd.DataFrame(data)\n",
    "\n",
    "print(df)"
   ]
  },
  {
   "cell_type": "markdown",
   "id": "e1600778-2b40-4f35-bb4b-7019124419d2",
   "metadata": {},
   "source": [
    "*Note: In this notebook, operations like `df.head(1)` are mainly demonstrated without overwriting the original DataFrame. This is useful for exploring data without changing anything. If you want to save the result, you must either assign it to a new variable (e.g., `df_subset = df.head(1)`) or overwrite the original one (e.g., `df = df.head(1)`).*"
   ]
  },
  {
   "cell_type": "markdown",
   "id": "208173e2-0920-4dff-add8-cd3342af6e0c",
   "metadata": {},
   "source": [
    "## 1. Initial Data Exploration"
   ]
  },
  {
   "cell_type": "markdown",
   "id": "59795aba-ba38-40de-bb41-c13469530022",
   "metadata": {},
   "source": [
    "- Inspect first/last rows:"
   ]
  },
  {
   "cell_type": "code",
   "execution_count": null,
   "id": "8ebb99b7-6cb1-4dd1-bc65-3887ad3dd34e",
   "metadata": {},
   "outputs": [],
   "source": [
    "df.head(1)"
   ]
  },
  {
   "cell_type": "code",
   "execution_count": null,
   "id": "9cec5012-aec6-4fde-8db3-39537b65c805",
   "metadata": {},
   "outputs": [],
   "source": [
    "df.tail(1)"
   ]
  },
  {
   "cell_type": "markdown",
   "id": "e0304e15-e413-452b-b853-0e0bd3d930b8",
   "metadata": {},
   "source": [
    "- Inspect columns:"
   ]
  },
  {
   "cell_type": "code",
   "execution_count": null,
   "id": "8b1f9548-60ae-480d-95c8-0e2a02b85fec",
   "metadata": {},
   "outputs": [],
   "source": [
    "df.columns"
   ]
  },
  {
   "cell_type": "markdown",
   "id": "29a3a12c-82c5-4de8-9df3-e5e61ceb2aea",
   "metadata": {},
   "source": [
    "- What **data types**?"
   ]
  },
  {
   "cell_type": "code",
   "execution_count": null,
   "id": "20ea3da9-ec8d-4cad-8bf9-de36176863e8",
   "metadata": {},
   "outputs": [],
   "source": [
    "df.dtypes"
   ]
  },
  {
   "cell_type": "markdown",
   "id": "2f598082-5ae8-44bc-9a3b-ac2bc0bcdf56",
   "metadata": {},
   "source": [
    "- Summarize the **statistical properties** of numerical data:"
   ]
  },
  {
   "cell_type": "code",
   "execution_count": null,
   "id": "b4a23f64-4fb2-49a0-971d-d3f661bd9227",
   "metadata": {},
   "outputs": [],
   "source": [
    "df.describe()"
   ]
  },
  {
   "cell_type": "markdown",
   "id": "066a6bec-c84b-421f-acf0-3c87bd18e4d3",
   "metadata": {},
   "source": [
    "- Isolating **unique values** in a column:"
   ]
  },
  {
   "cell_type": "code",
   "execution_count": null,
   "id": "0f946df7-7f0d-441c-8b25-4828e90e6837",
   "metadata": {},
   "outputs": [],
   "source": [
    "df[\"Temperature\"].unique()"
   ]
  },
  {
   "cell_type": "markdown",
   "id": "873d31b8-26ce-43d6-a485-c2b742df91ab",
   "metadata": {},
   "source": [
    "## 2. Selecting, Indexing and Order"
   ]
  },
  {
   "cell_type": "markdown",
   "id": "3e674b74-6604-4e38-9dfc-347ecbcc5061",
   "metadata": {},
   "source": [
    "- Selecting **specific column(s)**:"
   ]
  },
  {
   "cell_type": "code",
   "execution_count": null,
   "id": "8503185f-bd4a-4931-8408-fa21c049d3d0",
   "metadata": {},
   "outputs": [],
   "source": [
    "df[\"Temperature\"]\n",
    "# or:\n",
    "df.Temperature"
   ]
  },
  {
   "cell_type": "markdown",
   "id": "4dbb5f15-b89f-483e-8741-2d1925bc8794",
   "metadata": {},
   "source": [
    "- Selecting specific **row(s)**:"
   ]
  },
  {
   "cell_type": "code",
   "execution_count": null,
   "id": "f39ffd07-bbb5-41a2-9670-5158e19cf581",
   "metadata": {},
   "outputs": [],
   "source": [
    "df.iloc[1]"
   ]
  },
  {
   "cell_type": "markdown",
   "id": "eac02244-211f-4836-94ea-1f6ad2386523",
   "metadata": {},
   "source": [
    "- **Iterating** over a DataFrame with `iterrows()`:"
   ]
  },
  {
   "cell_type": "code",
   "execution_count": null,
   "id": "f246b2af-b7dc-4b46-b735-be85da4e1dc5",
   "metadata": {
    "scrolled": true
   },
   "outputs": [],
   "source": [
    "for idx, row in df.iterrows():\n",
    "    print(row[\"Date\"], row[\"Temperature\"])"
   ]
  },
  {
   "cell_type": "markdown",
   "id": "7d4f031c-8e39-449f-8c7b-16884eab03e9",
   "metadata": {},
   "source": [
    "- Select **rows by conditions** (add more filters by chaining conditions with `&` \"and\" or `|` \"or\"):"
   ]
  },
  {
   "cell_type": "code",
   "execution_count": null,
   "id": "85b3d033-2671-4fc2-b938-d04a766839ca",
   "metadata": {},
   "outputs": [],
   "source": [
    "df[df[\"Temperature\"] == 22.5] # == \"equal to\""
   ]
  },
  {
   "cell_type": "code",
   "execution_count": null,
   "id": "e7ccb21e-d8c5-47ac-9adf-9896cca67c03",
   "metadata": {},
   "outputs": [],
   "source": [
    "df[df[\"Temperature\"] >= 22.5] # >= \"larger or equal to\""
   ]
  },
  {
   "cell_type": "markdown",
   "id": "86b8b580-7fa9-42f0-872e-63519c25a289",
   "metadata": {},
   "source": [
    "- Use **`.iloc[]`** to select by position (like list indexing):"
   ]
  },
  {
   "cell_type": "code",
   "execution_count": null,
   "id": "7d4cf7e9-187a-408c-a370-9f5fec4add91",
   "metadata": {},
   "outputs": [],
   "source": [
    "df.iloc[0] # First row"
   ]
  },
  {
   "cell_type": "markdown",
   "id": "8ff5655d-ecd5-4f02-b4f4-f9475ba6d10d",
   "metadata": {},
   "source": [
    "- Use **`.loc[]`** to select by label (uses index):"
   ]
  },
  {
   "cell_type": "code",
   "execution_count": null,
   "id": "08c548e7-0b8a-4cde-83d6-42e040207473",
   "metadata": {},
   "outputs": [],
   "source": [
    "df.loc[0] # Looks for row with index 0 (not position!)"
   ]
  },
  {
   "cell_type": "markdown",
   "id": "972061ed-f45e-45e3-aaba-b65ea7092454",
   "metadata": {},
   "source": [
    "- **Sort by** column(s):"
   ]
  },
  {
   "cell_type": "code",
   "execution_count": null,
   "id": "ff3c2397-0b9e-4170-ba4b-d6dcf121b3c5",
   "metadata": {
    "scrolled": true
   },
   "outputs": [],
   "source": [
    "df.sort_values(\"Humidity\", ascending=False) # ascending=False tells pandas to sort values from highest to lowest instead of the default (lowest to highest)"
   ]
  },
  {
   "cell_type": "markdown",
   "id": "7d33209a-86ff-41f3-a21a-d132980440ee",
   "metadata": {},
   "source": [
    "- Change index:"
   ]
  },
  {
   "cell_type": "code",
   "execution_count": null,
   "id": "91749421-7a29-4864-8340-ffe6bbbf17ce",
   "metadata": {},
   "outputs": [],
   "source": [
    "df.index = df['Date']\n",
    "df"
   ]
  },
  {
   "cell_type": "markdown",
   "id": "93f0a7df-0b93-4992-979f-4e14fb414a22",
   "metadata": {},
   "source": [
    "- **Reset index**:"
   ]
  },
  {
   "cell_type": "code",
   "execution_count": null,
   "id": "28cec290-3b3f-4733-afd2-9c01bb4f0ef7",
   "metadata": {
    "scrolled": true
   },
   "outputs": [],
   "source": [
    "df.reset_index(drop=True, inplace=True) # inplace=True is overwriting without the need to reassign via \"df =\"\n",
    "df"
   ]
  },
  {
   "cell_type": "markdown",
   "id": "1b7a5a53-3b93-448b-8d00-0d749fe53386",
   "metadata": {},
   "source": [
    "## 3. Cleaning and Preprocessing"
   ]
  },
  {
   "cell_type": "markdown",
   "id": "00ff37c6-a8e5-4b9b-aecc-3c5b75fa9fce",
   "metadata": {},
   "source": [
    "- **Remove** column(s):"
   ]
  },
  {
   "cell_type": "code",
   "execution_count": null,
   "id": "539b0ec0-9316-4fe9-9b41-0801a3a2f4d5",
   "metadata": {},
   "outputs": [],
   "source": [
    "df.drop(columns=[\"Humidity\"])"
   ]
  },
  {
   "cell_type": "markdown",
   "id": "440061c8-3f3b-4284-9af1-7bc704ab1a95",
   "metadata": {},
   "source": [
    "- Remove rows with missing values from a specific column:"
   ]
  },
  {
   "cell_type": "code",
   "execution_count": null,
   "id": "a8a7548f-61fe-471b-9c40-3d464533314f",
   "metadata": {},
   "outputs": [],
   "source": [
    "df[df[\"Temperature\"].notna()] "
   ]
  },
  {
   "cell_type": "markdown",
   "id": "aba47354-be33-443c-8682-20b24ab4eb3a",
   "metadata": {},
   "source": [
    "- Remove rows with missing values where all columns are empty (default: \"any\"):"
   ]
  },
  {
   "cell_type": "code",
   "execution_count": null,
   "id": "d171a594-6195-4152-88ac-943c74b4a2a3",
   "metadata": {
    "scrolled": true
   },
   "outputs": [],
   "source": [
    "df.dropna(how=\"all\")"
   ]
  },
  {
   "cell_type": "code",
   "execution_count": null,
   "id": "e0b98743-ad84-487e-bfa6-c0173a94fede",
   "metadata": {},
   "outputs": [],
   "source": []
  },
  {
   "cell_type": "markdown",
   "id": "89aec228-bbd0-4ea9-99f9-9bda2f459163",
   "metadata": {},
   "source": [
    "- **Convert data type** (e.g. to float):"
   ]
  },
  {
   "cell_type": "code",
   "execution_count": null,
   "id": "a44266e6-5537-4d65-895d-5488ac48f154",
   "metadata": {},
   "outputs": [],
   "source": [
    "df[\"Wind_Speed\"].astype(float)"
   ]
  },
  {
   "cell_type": "markdown",
   "id": "5c24a3a8-1d6c-4f53-b80c-fb544c41c16a",
   "metadata": {},
   "source": [
    "- Convert to DateTime format:"
   ]
  },
  {
   "cell_type": "code",
   "execution_count": null,
   "id": "4ee85983-ccdb-44db-a7a7-d35440945368",
   "metadata": {},
   "outputs": [],
   "source": [
    "pd.to_datetime(df[\"Date\"])"
   ]
  },
  {
   "cell_type": "markdown",
   "id": "80006c48-1c53-48b2-bbd1-b9c02b618cd8",
   "metadata": {},
   "source": [
    "- **Rename** columns:"
   ]
  },
  {
   "cell_type": "code",
   "execution_count": null,
   "id": "3ebc5a65-7cd0-4f4d-9ee5-d8e3331c4e3b",
   "metadata": {},
   "outputs": [],
   "source": [
    "df.rename(columns={'Temperature': 'Temperature (°C)', 'Humidity': 'Humidity (%)'})"
   ]
  },
  {
   "cell_type": "markdown",
   "id": "48110874-852e-47d6-a502-211fec4d2acc",
   "metadata": {},
   "source": [
    "- **Replace** values:"
   ]
  },
  {
   "cell_type": "code",
   "execution_count": null,
   "id": "a2ad24f4-2dff-4d74-b02c-409304b976e5",
   "metadata": {},
   "outputs": [],
   "source": [
    "df.replace({'Temperature': {22.5: 22.0}})"
   ]
  },
  {
   "cell_type": "markdown",
   "id": "97dbb441-7efc-4141-9a10-8d068ed9b821",
   "metadata": {},
   "source": [
    "## 4. Transforming Data"
   ]
  },
  {
   "cell_type": "markdown",
   "id": "48549039-660b-4aa2-966d-3122a4d7d0a5",
   "metadata": {},
   "source": [
    "- Adding **new column** to a DataFrame:"
   ]
  },
  {
   "cell_type": "code",
   "execution_count": null,
   "id": "2eba1924-7180-49ae-aeef-fe031c6b6b54",
   "metadata": {},
   "outputs": [],
   "source": [
    "df[\"Rainfall\"] = [0, 0, 3, 15] # Ensure the new column has the same number of entries as existing rows."
   ]
  },
  {
   "cell_type": "markdown",
   "id": "4f610d9e-e39c-4724-a281-f3f8d1c405d4",
   "metadata": {},
   "source": [
    "- **Converting** a column to a **list**:"
   ]
  },
  {
   "cell_type": "code",
   "execution_count": null,
   "id": "fb14d7b0-36fd-4255-a8a0-ab10a2dae4d0",
   "metadata": {},
   "outputs": [],
   "source": [
    "df[\"Temperature\"].tolist()"
   ]
  },
  {
   "cell_type": "markdown",
   "id": "ae5a8556-d026-46e4-825d-5252c04be3dd",
   "metadata": {},
   "source": [
    "- **map()** for element-wise operations on a single column together with `lambda` (a short function without a name):"
   ]
  },
  {
   "cell_type": "code",
   "execution_count": null,
   "id": "1f52b0cd-77da-44a6-847f-848f0bdc8b5c",
   "metadata": {},
   "outputs": [],
   "source": [
    "df['Temperature_K'] = df['Temperature'].map(lambda x: x + 273.15) # Convert to Kelvin"
   ]
  },
  {
   "cell_type": "markdown",
   "id": "4a58ccd6-71ab-4ab7-b796-a171636fab52",
   "metadata": {},
   "source": [
    "- Direct math operation to convert to Kelvin:"
   ]
  },
  {
   "cell_type": "code",
   "execution_count": null,
   "id": "52fe16d7-5d55-4a0d-ab60-219ed8d01af0",
   "metadata": {},
   "outputs": [],
   "source": [
    "df['Temperature_K'] = df['Temperature'] + 273.15\n",
    "print(df['Temperature_K'])"
   ]
  },
  {
   "cell_type": "markdown",
   "id": "4f86b9d1-f55c-413f-9c21-d896134f7a5b",
   "metadata": {},
   "source": [
    "- **apply()** for row- or column-wise operations together with `lambda`:"
   ]
  },
  {
   "cell_type": "code",
   "execution_count": null,
   "id": "174cabc2-8a9c-4091-9192-49dca404d5c1",
   "metadata": {},
   "outputs": [],
   "source": [
    "df['diff'] = df.apply(lambda row: row['Temperature_K'] - row['Temperature'], axis=1)\n",
    "print(df['diff'])"
   ]
  },
  {
   "cell_type": "markdown",
   "id": "2544e775-47e5-4617-8828-fa9a3995000a",
   "metadata": {},
   "source": [
    "## 5. Grouping and Aggregation"
   ]
  },
  {
   "cell_type": "markdown",
   "id": "0636b1f0-0eb5-4ea1-af39-2110e6aaee89",
   "metadata": {},
   "source": [
    "- **Aggregation functions**:"
   ]
  },
  {
   "cell_type": "code",
   "execution_count": null,
   "id": "46ae33de-9385-4de3-8b5c-c38fe352eaa2",
   "metadata": {},
   "outputs": [],
   "source": [
    "df[\"Temperature\"].mean()"
   ]
  },
  {
   "cell_type": "code",
   "execution_count": null,
   "id": "4508dc12-efc1-4f5d-8a2f-15f4e9ac23ab",
   "metadata": {},
   "outputs": [],
   "source": [
    "df[\"Rainfall\"].sum()"
   ]
  },
  {
   "cell_type": "markdown",
   "id": "d92a0fee-4f6d-41c4-ba30-44bfa60ad708",
   "metadata": {},
   "source": [
    "-  **Grouping Data by** one or more columns for aggregate analysis where `groupby()` separates the data into buckets and you say what to do with each bucket using aggregation functions. For example: Mean temperature per rainfall group."
   ]
  },
  {
   "cell_type": "code",
   "execution_count": null,
   "id": "a1224702-38eb-478d-b0ad-0a889af56a24",
   "metadata": {},
   "outputs": [],
   "source": [
    "df.groupby(\"Rainfall\")[\"Temperature\"].mean()"
   ]
  },
  {
   "cell_type": "markdown",
   "id": "4077e3a3-6f0b-4ab3-915b-9cf990234fd8",
   "metadata": {},
   "source": [
    "## 6. Merging and Joining"
   ]
  },
  {
   "cell_type": "markdown",
   "id": "98021545-0e04-4e90-93a1-2a4a3f3d9da2",
   "metadata": {},
   "source": [
    "- **Stack** DataFrames:"
   ]
  },
  {
   "cell_type": "code",
   "execution_count": null,
   "id": "f9806458-d261-4ef1-b47a-89587ab3eb55",
   "metadata": {},
   "outputs": [],
   "source": [
    "df2 = df.copy()  # Just duplicate it for the example\n",
    "pd.concat([df, df2])"
   ]
  },
  {
   "cell_type": "markdown",
   "id": "6cae1894-5e2e-403d-9eaf-e5b0a082d078",
   "metadata": {},
   "source": [
    "- **Merge by** a shared column:"
   ]
  },
  {
   "cell_type": "code",
   "execution_count": null,
   "id": "8b99cfb1-9405-4c43-be9a-cee84b25ba9d",
   "metadata": {},
   "outputs": [],
   "source": [
    "info = pd.DataFrame({\n",
    "    'Date': ['2025-06-01', '2025-06-02'],\n",
    "    'Condition': ['Sunny', 'Cloudy']\n",
    "})\n",
    "\n",
    "merged = pd.merge(df, info, on='Date')\n",
    "print(merged)"
   ]
  },
  {
   "cell_type": "markdown",
   "id": "6c35b53b-024c-48c8-a24f-cec7372d0b20",
   "metadata": {},
   "source": [
    "## 7. Data Visualization\n",
    "\n",
    "Pandas offers many built-in plotting functions that are great for quick visualizations, such as line plots, histograms, and scatter plots. For more advanced and highly customizable visualizations, you can use `matplotlib`."
   ]
  },
  {
   "cell_type": "code",
   "execution_count": null,
   "id": "77b83edf-efea-43b1-9275-350c3ba7f480",
   "metadata": {},
   "outputs": [],
   "source": [
    "Iris = pd.read_csv(\"../Data/Iris.csv\")\n",
    "Iris.head()"
   ]
  },
  {
   "cell_type": "code",
   "execution_count": null,
   "id": "9d5cbf19-d307-4522-9358-a32445e5f93a",
   "metadata": {},
   "outputs": [],
   "source": [
    "time_series = pd.read_csv('../Data/NOAA_time_series.csv', skiprows=4, delimiter=',')\n",
    "time_series.head()"
   ]
  },
  {
   "cell_type": "markdown",
   "id": "8594e9cf-5219-43b1-ae80-8b5498c292ac",
   "metadata": {},
   "source": [
    "- **Line plot** - temperature anomaly over time:"
   ]
  },
  {
   "cell_type": "code",
   "execution_count": null,
   "id": "80bab3c0-cb99-408a-b2a3-6a17eff799e1",
   "metadata": {},
   "outputs": [],
   "source": [
    "time_series.plot(x='Year', y='Anomaly', title='Global Temperature Anomaly')"
   ]
  },
  {
   "cell_type": "code",
   "execution_count": null,
   "id": "4be6ff6d-fd05-44ad-9ddc-fa3f01909149",
   "metadata": {},
   "outputs": [],
   "source": [
    "# Example with matplotlib:\n",
    "plt.plot(time_series['Year'], time_series['Anomaly'], color='red', linestyle='--')\n",
    "plt.title(\"Temperature Anomaly\")\n",
    "plt.xlabel(\"Year\")\n",
    "plt.ylabel(\"Anomaly\")\n",
    "plt.show()"
   ]
  },
  {
   "cell_type": "markdown",
   "id": "6cf1f742-32d5-4844-8b50-ea88c27c791e",
   "metadata": {},
   "source": [
    "- **Bar plot** - temperature anomaly over time:"
   ]
  },
  {
   "cell_type": "code",
   "execution_count": null,
   "id": "29f62e0b-6e93-440d-9cae-07f0207d3a34",
   "metadata": {},
   "outputs": [],
   "source": [
    "time_series.plot(\n",
    "    x='Year',\n",
    "    y='Anomaly',\n",
    "    kind='bar',\n",
    "    title='Global Temperature Anomaly'\n",
    ")"
   ]
  },
  {
   "cell_type": "markdown",
   "id": "e1db570b-8531-4472-8b65-690e20239e89",
   "metadata": {},
   "source": [
    "- **Scatter plot** – sepal length vs. width (Iris):"
   ]
  },
  {
   "cell_type": "code",
   "execution_count": null,
   "id": "0ac7f3be-0d58-4b22-9574-0eda6932005c",
   "metadata": {},
   "outputs": [],
   "source": [
    "Iris.plot.scatter(x='SepalLengthCm', y='SepalWidthCm', title='Sepal Dimensions')"
   ]
  },
  {
   "cell_type": "markdown",
   "id": "e72b03e9-9527-43ca-93dc-456cc84d7d7c",
   "metadata": {},
   "source": [
    "- **Histogram** – distribution of petal length:"
   ]
  },
  {
   "cell_type": "code",
   "execution_count": null,
   "id": "40a93572-85d3-472d-bc46-f855de614a80",
   "metadata": {},
   "outputs": [],
   "source": [
    "Iris['PetalLengthCm'].plot.hist(title='Petal Length Distribution')"
   ]
  },
  {
   "cell_type": "markdown",
   "id": "36f951bb-bac6-4a94-8c12-929f3f8529e2",
   "metadata": {},
   "source": [
    "- **Boxplot** – compare sepal lengths across species:"
   ]
  },
  {
   "cell_type": "code",
   "execution_count": null,
   "id": "d84623f1-9e52-41c1-96fc-60cf7ca21f82",
   "metadata": {},
   "outputs": [],
   "source": [
    "Iris.boxplot(column='SepalLengthCm', by='Species')"
   ]
  },
  {
   "cell_type": "markdown",
   "id": "111cbeb7-43f4-4ae3-a84f-b40036f6ed43",
   "metadata": {},
   "source": [
    "---\n",
    "---"
   ]
  },
  {
   "cell_type": "markdown",
   "id": "2bb98602-d44e-476f-a39d-feee1715b04e",
   "metadata": {},
   "source": [
    "### **Exercise 1:** \n",
    "\n",
    "Calculate the area of the petals of the Iris flower  in the Iris dataset via multiplication (no need for precise ellipse area) in a new column. Select only the species 'Iris-versicolor' and find the average (mean) area for this species.\n",
    "\n",
    "<img src=\"../Images/iris.png\" style=\"width: 1000px;\"> \n",
    "\n",
    "*Image modified from Steve Dorand, Pixabay*"
   ]
  },
  {
   "cell_type": "markdown",
   "id": "1cb74d8a-f4f9-4c4e-acfa-e85e11d41f86",
   "metadata": {},
   "source": [
    "---"
   ]
  },
  {
   "cell_type": "code",
   "execution_count": null,
   "id": "1e3a0438-1556-49c5-b92e-99de1b769ae0",
   "metadata": {},
   "outputs": [],
   "source": []
  },
  {
   "cell_type": "markdown",
   "id": "d9605109-b4ec-4065-ab97-a71b47043bf4",
   "metadata": {},
   "source": [
    "---"
   ]
  },
  {
   "cell_type": "markdown",
   "id": "d0e962c1-6254-4298-91b8-8f53c2ad639a",
   "metadata": {},
   "source": [
    "### **Exercise 2:** \n",
    "\n",
    "Load the World Happiness Report dataset into a new DataFrame named from `../Data/World-happiness-report-2024.csv` using `pandas`. Sort the data table by \"Ladder score\" and print the top three countries with the highest \"Ladder score\". In addition, save the data of the 20 highes-ranked countries to a new DataFrame and plot their Ladder score in a bar plot."
   ]
  },
  {
   "cell_type": "markdown",
   "id": "be103c47-e9c2-4513-af51-16880496da64",
   "metadata": {},
   "source": [
    "---"
   ]
  },
  {
   "cell_type": "code",
   "execution_count": null,
   "id": "4ee1c058-ce3e-4e33-a1c6-334292434bc5",
   "metadata": {},
   "outputs": [],
   "source": []
  },
  {
   "cell_type": "markdown",
   "id": "113eb5a0-0f19-48a7-b49e-c979baea4fbf",
   "metadata": {},
   "source": [
    "---"
   ]
  }
 ],
 "metadata": {
  "kernelspec": {
   "display_name": "Python 3 (ipykernel)",
   "language": "python",
   "name": "python3"
  },
  "language_info": {
   "codemirror_mode": {
    "name": "ipython",
    "version": 3
   },
   "file_extension": ".py",
   "mimetype": "text/x-python",
   "name": "python",
   "nbconvert_exporter": "python",
   "pygments_lexer": "ipython3",
   "version": "3.11.9"
  }
 },
 "nbformat": 4,
 "nbformat_minor": 5
}
